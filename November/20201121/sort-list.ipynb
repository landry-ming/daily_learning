{
 "cells": [
  {
   "cell_type": "markdown",
   "metadata": {},
   "source": [
    "给你链表的头结点 head ，请将其按 升序 排列并返回 排序后的链表 。\n",
    "\n",
    "进阶：\n",
    "\n",
    "你可以在 O(n log n) 时间复杂度和常数级空间复杂度下，对链表进行排序吗？"
   ]
  },
  {
   "cell_type": "code",
   "execution_count": 2,
   "metadata": {},
   "outputs": [],
   "source": [
    "##### 解题方法一：插入排序"
   ]
  },
  {
   "cell_type": "code",
   "execution_count": null,
   "metadata": {},
   "outputs": [],
   "source": [
    "class Solution:\n",
    "    def sortList(self, head: ListNode) -> ListNode:\n",
    "        if not head:\n",
    "            return head\n",
    "        \n",
    "        dummy = ListNode(0, head)\n",
    "        cur = head.next\n",
    "        lastnode = head\n",
    "        \n",
    "        while cur:\n",
    "            if cur.val >= lastnode.val:\n",
    "                lastnode = lastnode.next\n",
    "                cur = cur.next\n",
    "            else:\n",
    "                prev = dummy\n",
    "                while prev.next.val <= cur.val:\n",
    "                    prev = prev.next\n",
    "                lastnode.next = cur.next\n",
    "                cur.next = prev.next\n",
    "                prev.next = cur\n",
    "                cur = lastnode.next\n",
    "        return dummy.next\n"
   ]
  },
  {
   "cell_type": "code",
   "execution_count": null,
   "metadata": {},
   "outputs": [],
   "source": []
  },
  {
   "cell_type": "code",
   "execution_count": null,
   "metadata": {},
   "outputs": [],
   "source": []
  }
 ],
 "metadata": {
  "kernelspec": {
   "display_name": "Python 3",
   "language": "python",
   "name": "python3"
  },
  "language_info": {
   "codemirror_mode": {
    "name": "ipython",
    "version": 3
   },
   "file_extension": ".py",
   "mimetype": "text/x-python",
   "name": "python",
   "nbconvert_exporter": "python",
   "pygments_lexer": "ipython3",
   "version": "3.8.5"
  }
 },
 "nbformat": 4,
 "nbformat_minor": 4
}
