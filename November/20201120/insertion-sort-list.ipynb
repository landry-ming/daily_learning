{
 "cells": [
  {
   "cell_type": "markdown",
   "metadata": {},
   "source": [
    "对链表进行插入排序。"
   ]
  },
  {
   "cell_type": "markdown",
   "metadata": {},
   "source": [
    "##### 解题思路：\n",
    "1. 对链表进行插入排序，首先是吧链表的第一个值看作有序链表，然后从第二个值开始向里面添加值。\n",
    "2. 向里面添加值分为两种，第一种将要添加进前面有序列表的值大于或者等于有序链表的最后一个值，那说明加上这个值，链表也是有序的，只需把有序链表向右扩展一位。\n",
    "3. 第二种，将要添加的值小于有序链表的最后一个值，这时候需要遍历链表的前半部分，找到这个值的合适位置，记下他的前序节点prev，执行：有序链表的最后节点指向现在节点的后续节点，现在节点指向prev的后续节点,prev指向cur。\n",
    "4.分析特殊情况，空链表和只有一个节点的链表"
   ]
  },
  {
   "cell_type": "code",
   "execution_count": null,
   "metadata": {},
   "outputs": [],
   "source": [
    "class Solution:\n",
    "    def insertionSortList(self, head: ListNode) -> ListNode:\n",
    "        \n",
    "        ### 特殊情况，空链表\n",
    "        if not head:\n",
    "            return head\n",
    "        \n",
    "        # 建立哑结点指向头节点，避免分析特殊情况\n",
    "        dummy = ListNode(0, head)\n",
    "        cur = head.next\n",
    "        lastnode = head\n",
    "        \n",
    "        # 排序分为两种情况\n",
    "        while cur:\n",
    "            \n",
    "            if cur.val >= lastnode.val:\n",
    "                lastnode = cur\n",
    "                cur = cur.next\n",
    "            \n",
    "            else:\n",
    "                prev = dummy\n",
    "                while prev.next.val <= cur.val:\n",
    "                    prev = prev.next\n",
    "                \n",
    "                lastnode.next = cur.next\n",
    "                cur.next = prev.next\n",
    "                prev.next = cur\n",
    "                \n",
    "                cur = lastnode.next  ## 最容易出错的地方\n",
    "                \n",
    "        return dummy.next"
   ]
  },
  {
   "cell_type": "code",
   "execution_count": null,
   "metadata": {},
   "outputs": [],
   "source": []
  },
  {
   "cell_type": "code",
   "execution_count": 3,
   "metadata": {},
   "outputs": [],
   "source": [
    "##### 回顾列表插入排序\n",
    "\n",
    "链表插入法和列表插入排序最重要的区别时，在列表转换时，我们遍历的到第i个元素在前i-\n",
    "个元素的位置时，我们很难需要先把第i个元素直接交换到需要的位置，需要先交换后删除。"
   ]
  },
  {
   "cell_type": "code",
   "execution_count": null,
   "metadata": {},
   "outputs": [],
   "source": [
    "def insert_sort(a):\n",
    "    \n",
    "    n = len(a)\n",
    "    for i in range(1, n):\n",
    "        while i > 0:\n",
    "            if a[i] < a[i-1]:\n",
    "                a[i], a[i-1] = a[i-1], a[i]\n",
    "                i -= 1\n",
    "            else:\n",
    "                break\n",
    "    return a\n",
    "\n",
    "def insert_sort2(a):\n",
    "    \n",
    "    n = len(a)\n",
    "    \n",
    "    while i <= n:\n",
    "        \n",
    "        if a[i] >= a[i-1]:\n",
    "            i += 1\n",
    "            \n",
    "        else:\n",
    "            j = 0\n",
    "            while a[j] <= a[i]:\n",
    "                j += 1\n",
    "            a[j:j] = [a[i]]\n",
    "            del a[i+1]\n",
    "            i += 1\n",
    "    retuan a\n",
    "    \n",
    "        "
   ]
  },
  {
   "cell_type": "code",
   "execution_count": 9,
   "metadata": {},
   "outputs": [
    {
     "data": {
      "text/plain": [
       "[1, 2, 4, 4, 5, 8]"
      ]
     },
     "execution_count": 9,
     "metadata": {},
     "output_type": "execute_result"
    }
   ],
   "source": [
    "a = [4,5,8,2,1,4]\n",
    "a = insert_sort(a)\n",
    "a"
   ]
  }
 ],
 "metadata": {
  "kernelspec": {
   "display_name": "Python 3",
   "language": "python",
   "name": "python3"
  },
  "language_info": {
   "codemirror_mode": {
    "name": "ipython",
    "version": 3
   },
   "file_extension": ".py",
   "mimetype": "text/x-python",
   "name": "python",
   "nbconvert_exporter": "python",
   "pygments_lexer": "ipython3",
   "version": "3.8.5"
  }
 },
 "nbformat": 4,
 "nbformat_minor": 4
}
