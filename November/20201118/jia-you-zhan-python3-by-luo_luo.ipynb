{
 "cells": [
  {
   "cell_type": "markdown",
   "metadata": {},
   "source": [
    "在一条环路上有 N 个加油站，其中第 i 个加油站有汽油 gas[i] 升。\n",
    "\n",
    "你有一辆油箱容量无限的的汽车，从第 i 个加油站开往第 i+1 个加油站需要消耗汽油 cost[i] 升。你从其中的一个加油站出发，开始时油箱为空。\n",
    "\n",
    "如果你可以绕环路行驶一周，则返回出发时加油站的编号，否则返回 -1。\n",
    "\n",
    "说明: \n",
    "\n",
    "如果题目有解，该答案即为唯一答案。\n",
    "输入数组均为非空数组，且长度相同。\n",
    "输入数组中的元素均为非负数。\n",
    "示例 1:\n",
    "\n",
    "输入: \n",
    "gas  = [1,2,3,4,5]\n",
    "cost = [3,4,5,1,2]\n",
    "\n",
    "输出: 3\n",
    "\n",
    "解释:\n",
    "从 3 号加油站(索引为 3 处)出发，可获得 4 升汽油。此时油箱有 = 0 + 4 = 4 升汽油\n",
    "开往 4 号加油站，此时油箱有 4 - 1 + 5 = 8 升汽油\n",
    "开往 0 号加油站，此时油箱有 8 - 2 + 1 = 7 升汽油\n",
    "开往 1 号加油站，此时油箱有 7 - 3 + 2 = 6 升汽油\n",
    "开往 2 号加油站，此时油箱有 6 - 4 + 3 = 5 升汽油\n",
    "开往 3 号加油站，你需要消耗 5 升汽油，正好足够你返回到 3 号加油站。\n",
    "因此，3 可为起始索引。\n",
    "示例 2:\n",
    "\n",
    "输入: \n",
    "gas  = [2,3,4]\n",
    "cost = [3,4,3]\n",
    "\n",
    "输出: -1\n",
    "\n",
    "解释:\n",
    "你不能从 0 号或 1 号加油站出发，因为没有足够的汽油可以让你行驶到下一个加油站。\n",
    "我们从 2 号加油站出发，可以获得 4 升汽油。 此时油箱有 = 0 + 4 = 4 升汽油\n",
    "开往 0 号加油站，此时油箱有 4 - 3 + 2 = 3 升汽油\n",
    "开往 1 号加油站，此时油箱有 3 - 3 + 3 = 3 升汽油\n",
    "你无法返回 2 号加油站，因为返程需要消耗 4 升汽油，但是你的油箱只有 3 升汽油。\n",
    "因此，无论怎样，你都不可能绕环路行驶一周。"
   ]
  },
  {
   "cell_type": "code",
   "execution_count": null,
   "metadata": {},
   "outputs": [],
   "source": [
    "class Solution:\n",
    "    def canCompleteCircuit(self, gas: List[int], cost: List[int]):\n",
    "        n = len(gas)\n",
    "        if n == 1:\n",
    "            if gas[0] >= cost[0]:\n",
    "                return 0\n",
    "            else:\n",
    "                return -1\n",
    "        \n",
    "        \n",
    "        for i in range(n):\n",
    "            if gas[i] > cost[i]:\n",
    "                j = i+1\n",
    "                rest = gas[i] - cost[i]\n",
    "                while j % n  != i:\n",
    "                    if rest + gas[j%n] >= cost[j%n]:\n",
    "                        \n",
    "                        rest += gas[j%n] - cost[j%n]\n",
    "                        j += 1\n",
    "                    else:\n",
    "                        break\n",
    "                if j % n == i:\n",
    "                    return i\n",
    "        return -1        "
   ]
  },
  {
   "cell_type": "code",
   "execution_count": null,
   "metadata": {},
   "outputs": [],
   "source": []
  },
  {
   "cell_type": "markdown",
   "metadata": {},
   "source": [
    "###### 题解：\n",
    "1. 这道题我们可以先从头往后遍历，从第一个点开始遍历，看看从哪个点可以作为起始点，存在以下几种情况。\n",
    "    1. 节点i gas[i] < cos[i], 则节点i无法作为起始点\n",
    "    2. 在节点i，gas[i] >= cos[i], 则节省下来的油为fuel = gas[i] - cos[i]。但是跑到节点j，fuel+gas[j]-cos[j]<0,说明从节点i是跑不到节点j的，这时候应该将fuel设为0，从j点看是否可以作为起始点。\n",
    "    3. 假设从k点可以跑到最后一个点，剩下来的油为fuel，则应该计算从节点0到节点k-1带着油fuel是否可以跑完。"
   ]
  },
  {
   "cell_type": "code",
   "execution_count": null,
   "metadata": {},
   "outputs": [],
   "source": [
    "class Solution:\n",
    "    def canCompleteCircuit(self, gas: List[int], cost: List[int]) -> int:\n",
    "        start = 0\n",
    "        fuel =0\n",
    "        for i in range(len(gas)):\n",
    "            if fuel + gas[i] - cost[i] >= 0:\n",
    "                fuel += gas[i] - cost[i]\n",
    "            else:\n",
    "                start = i + 1\n",
    "                fuel = 0\n",
    "        \n",
    "        for i in range(start):\n",
    "            if fuel + gas[i] - cost[i] >= 0:\n",
    "                fuel += gas[i] - cost[i]\n",
    "            else:\n",
    "                return -1\n",
    "        return start\n",
    "## 最好在这李检查一下特殊情况，只有一个节点时，发现也可以处理过。"
   ]
  }
 ],
 "metadata": {
  "kernelspec": {
   "display_name": "Python 3",
   "language": "python",
   "name": "python3"
  },
  "language_info": {
   "codemirror_mode": {
    "name": "ipython",
    "version": 3
   },
   "file_extension": ".py",
   "mimetype": "text/x-python",
   "name": "python",
   "nbconvert_exporter": "python",
   "pygments_lexer": "ipython3",
   "version": "3.8.5"
  }
 },
 "nbformat": 4,
 "nbformat_minor": 4
}
